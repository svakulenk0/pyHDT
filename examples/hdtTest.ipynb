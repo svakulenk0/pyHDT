{
 "cells": [
  {
   "cell_type": "markdown",
   "metadata": {},
   "source": [
    "# Using HDT hops in python\n",
    "## 1. Install the modified pyHDT library\n",
    "\n",
    "`git clone https://github.com/webdata/pyHDT.git` \n",
    "\n",
    "`./install.sh`\n",
    "\n",
    "## 2. Load the HDT document"
   ]
  },
  {
   "cell_type": "code",
   "execution_count": 59,
   "metadata": {
    "scrolled": true
   },
   "outputs": [],
   "source": [
    "from hdt import HDTDocument\n",
    "from enum import Enum\n",
    "\n",
    " # Load an HDT file. Missing indexes are generated automatically\n",
    "document = HDTDocument(\"test.hdt\")"
   ]
  },
  {
   "cell_type": "markdown",
   "metadata": {},
   "source": [
    "### Just a random test to search and print the first 10 triples in the dataset"
   ]
  },
  {
   "cell_type": "code",
   "execution_count": 61,
   "metadata": {},
   "outputs": [
    {
     "name": "stdout",
     "output_type": "stream",
     "text": [
      "cardinality of { ?s ?p ?o }: 15\n",
      "\n",
      "Printing the first 10 triples:\n",
      "('http://example.org/uri3', 'http://example.org/predicate3', 'http://example.org/uri4')\n",
      "('http://example.org/uri3', 'http://example.org/predicate3', 'http://example.org/uri5')\n",
      "('http://example.org/uri4', 'http://example.org/predicate4', 'http://example.org/uri5')\n",
      "('http://example.org/uri5', 'http://example.org/predicate1', 'http://example.org/uri5')\n",
      "('http://example.org/uri5', 'http://example.org/predicate2', 'http://example.org/uri5')\n",
      "('http://example.org/uri6', 'http://example.org/predicate4', 'http://example.org/uri5')\n",
      "('http://example.org/uri1', 'http://example.org/predicate1', '\"literal1\"')\n",
      "('http://example.org/uri1', 'http://example.org/predicate1', '\"literalA\"')\n",
      "('http://example.org/uri1', 'http://example.org/predicate1', '\"literalB\"')\n",
      "('http://example.org/uri1', 'http://example.org/predicate1', '\"literalC\"')\n"
     ]
    }
   ],
   "source": [
    "# Fetch all triples that matches { ?s ?p ?o }\n",
    "# Use empty strings (\"\") to indicates variables\n",
    "#(triples, cardinality) = document.search_triples(\"\", \"\", \"\")\n",
    "\n",
    "print(\"cardinality of { ?s ?p ?o }: %i\" % cardinality)\n",
    "#for triple in triples:\n",
    "#  print(triple)\n",
    "\n",
    "# Search also support limit and offset\n",
    "(triples, cardinality) = document.search_triples(\"\", \"\", \"\", limit=10)\n",
    "print (\"\\nPrinting the first 10 triples:\")\n",
    "for triple in triples:\n",
    "    print(triple)\n",
    "\n",
    "\n",
    "\n",
    "#document.string_to_id(\"http://example.org/uri3\",TripleComponentRole.SUBJECT)"
   ]
  },
  {
   "cell_type": "markdown",
   "metadata": {},
   "source": [
    "## 3. Configure the hop functionality\n",
    "The function `configure_hops` sets up the main parameters that can be reused in multiple hop computations. \n",
    "\n",
    "The arguments are as follows:\n",
    "1. Number of hops \n",
    "2. List of predicates `[\"predicate1\",\"predicate2\"]` : Filter only those hops with the given predicate terms\n",
    "3. List of prefixes `[\"prefix1\",\"prefix2\"]` : Filter the hops to only those terms starting with the given prefix\n",
    "4. `true|false` continuous mapping: use true for a novel continuous dictionary (objects follow the subject IDs) or false for the HDT default dictionary. True is recommended\n"
   ]
  },
  {
   "cell_type": "code",
   "execution_count": 63,
   "metadata": {},
   "outputs": [],
   "source": [
    "document.configure_hops(2,[\"http://example.org/predicate1\",\"http://example.org/predicate2\"],\"http://example.org\",True)\n"
   ]
  },
  {
   "cell_type": "markdown",
   "metadata": {},
   "source": [
    "## 4. Run the hops\n",
    "\n",
    "The function `compute_hops` provides the hops from the given set of entities\n",
    "\n",
    "The argument is a list of entities as `[id_entity_1,id_entity_2]`\n",
    "\n",
    "The result is a tuple with three components:\n",
    "1. The entity IDs of the result, `[result_ID_X,result_ID_Y]`, in the order that will be used in the predicate matrix, i.e. ID 0 --> result_ID_X , ID 1 --> result_ID_Y, etc.\n",
    "2. The list of predicates in the result set, `[predicate_ID_V,predicate_ID_W]` in the same order as the matrix to follow.\n",
    "3. Predicate Matrixes, each of them as a list of (subject,object) pairs, i.e. `(ID_S,ID_O),...][(ID_S,ID_O),...]`"
   ]
  },
  {
   "cell_type": "code",
   "execution_count": 64,
   "metadata": {},
   "outputs": [
    {
     "data": {
      "text/plain": [
       "([5, 1, 12], [2], [[(0, 1), (0, 2)]])"
      ]
     },
     "execution_count": 64,
     "metadata": {},
     "output_type": "execute_result"
    }
   ],
   "source": [
    "document.compute_hops([1])"
   ]
  }
 ],
 "metadata": {
  "kernelspec": {
   "display_name": "Python 3",
   "language": "python",
   "name": "python3"
  },
  "language_info": {
   "codemirror_mode": {
    "name": "ipython",
    "version": 3
   },
   "file_extension": ".py",
   "mimetype": "text/x-python",
   "name": "python",
   "nbconvert_exporter": "python",
   "pygments_lexer": "ipython3",
   "version": "3.6.5"
  }
 },
 "nbformat": 4,
 "nbformat_minor": 2
}
