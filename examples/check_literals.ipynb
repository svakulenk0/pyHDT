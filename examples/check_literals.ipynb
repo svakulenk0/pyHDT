{
 "cells": [
  {
   "cell_type": "code",
   "execution_count": 17,
   "metadata": {},
   "outputs": [],
   "source": [
    "# load KG\n",
    "from hdt import HDTDocument, TripleComponentRole\n",
    "from settings import *\n",
    "\n",
    "hdt_file = 'wikidata20200309.hdt'\n",
    "kg = HDTDocument(hdt_path+hdt_file)\n",
    "namespace = 'predef-wikidata2020-03-all'\n",
    "predicates_ids = []\n",
    "kg.configure_hops(1, predicates_ids, namespace, True, True)\n",
    "offset = 0\n",
    "max_triples = 5000000"
   ]
  },
  {
   "cell_type": "code",
   "execution_count": 18,
   "metadata": {},
   "outputs": [
    {
     "name": "stdout",
     "output_type": "stream",
     "text": [
      "http://www.wikidata.org/prop/direct/P1191\n"
     ]
    }
   ],
   "source": [
    "# triple exists\n",
    "l_uri = '\"1989-12-17T00:00:00Z\"^^<http://www.w3.org/2001/XMLSchema#dateTime>'\n",
    "e_uri = 'http://www.wikidata.org/entity/Q886'\n",
    "(triples, cardinality) = kg.search_triples(e_uri, \"\", l_uri)\n",
    "if cardinality > 0:\n",
    "    while True:\n",
    "        try:\n",
    "            label = triples.next()[1]\n",
    "            print(label)\n",
    "        except:\n",
    "            break"
   ]
  },
  {
   "cell_type": "code",
   "execution_count": 19,
   "metadata": {},
   "outputs": [
    {
     "name": "stdout",
     "output_type": "stream",
     "text": [
      "1303428218 80166365\n"
     ]
    }
   ],
   "source": [
    "# get ids\n",
    "l_id = kg.string_to_global_id(l_uri, TripleComponentRole.OBJECT)\n",
    "e_id = kg.string_to_global_id(e_uri, TripleComponentRole.OBJECT)\n",
    "print(l_id, e_id)"
   ]
  },
  {
   "cell_type": "code",
   "execution_count": 20,
   "metadata": {},
   "outputs": [],
   "source": [
    "entity_ids, predicate_ids, adjacencies = kg.compute_hops([l_id, e_id], max_triples, offset)"
   ]
  },
  {
   "cell_type": "code",
   "execution_count": 22,
   "metadata": {},
   "outputs": [
    {
     "name": "stdout",
     "output_type": "stream",
     "text": [
      "0\n",
      "4\n"
     ]
    }
   ],
   "source": [
    "# get local ids\n",
    "print(entity_ids.index(l_id))\n",
    "print(entity_ids.index(e_id))"
   ]
  },
  {
   "cell_type": "code",
   "execution_count": 29,
   "metadata": {},
   "outputs": [],
   "source": [
    "for a in adjacencies:\n",
    "    if (4, 0) in a:\n",
    "        print(a)"
   ]
  },
  {
   "cell_type": "code",
   "execution_count": null,
   "metadata": {},
   "outputs": [],
   "source": []
  }
 ],
 "metadata": {
  "kernelspec": {
   "display_name": "transformers",
   "language": "python",
   "name": "transformers"
  },
  "language_info": {
   "codemirror_mode": {
    "name": "ipython",
    "version": 3
   },
   "file_extension": ".py",
   "mimetype": "text/x-python",
   "name": "python",
   "nbconvert_exporter": "python",
   "pygments_lexer": "ipython3",
   "version": "3.8.1"
  }
 },
 "nbformat": 4,
 "nbformat_minor": 2
}
